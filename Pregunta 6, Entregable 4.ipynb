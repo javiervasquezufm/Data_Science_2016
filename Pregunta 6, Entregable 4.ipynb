{
 "cells": [
  {
   "cell_type": "markdown",
   "metadata": {},
   "source": [
    "# #6. ¿Que estado, en promedio, necesita menos cotizaciones? "
   ]
  },
  {
   "cell_type": "markdown",
   "metadata": {},
   "source": [
    "Variables a analizar:\n",
    "\n",
    "Shopping_pt, State y record_type"
   ]
  },
  {
   "cell_type": "markdown",
   "metadata": {},
   "source": [
    "Ahora se importan las librerias:"
   ]
  },
  {
   "cell_type": "code",
   "execution_count": null,
   "metadata": {
    "collapsed": true
   },
   "outputs": [],
   "source": [
    "import numpy as np\n",
    "import pandas as pd\n",
    "import matplotlib as mpl\n",
    "import matplotlib.pyplot as plt\n",
    "import seaborn as sns"
   ]
  },
  {
   "cell_type": "markdown",
   "metadata": {},
   "source": [
    "Definimos el dataset:"
   ]
  },
  {
   "cell_type": "code",
   "execution_count": null,
   "metadata": {
    "collapsed": true
   },
   "outputs": [],
   "source": [
    "allstate = pd.read_csv('allstate.csv')"
   ]
  },
  {
   "cell_type": "markdown",
   "metadata": {},
   "source": [
    "En nuestro dataset, hacemos un groupby de la variable \"state\", definido como \"bystate\". Y dentro de el, en el mismo dataset, en el record_type ( que nos define si se genero la venta o no. 1 si si se hizo, y 0 y no se hizo ) se iguala a 1. Esto nos da todos los resultados agrupados en \"state\""
   ]
  },
  {
   "cell_type": "code",
   "execution_count": null,
   "metadata": {
    "collapsed": true
   },
   "outputs": [],
   "source": [
    "bystate = allstate[allstate.record_type==1].groupby(\"state\")"
   ]
  },
  {
   "cell_type": "code",
   "execution_count": null,
   "metadata": {
    "collapsed": true
   },
   "outputs": [],
   "source": [
    "bystate.head()\n",
    "\n",
    "bystate.shopping_pt.mean()\n",
    "\n",
    "bystate.shopping_pt.mean().min()\n",
    "\n",
    "tabla6=bystate.shopping_pt.mean()"
   ]
  },
  {
   "cell_type": "markdown",
   "metadata": {},
   "source": [
    "En la primera comlumna para confirmar que la variable bystate este correcta, ingresamos \"head\". Le sacamos la mediana a nuetra variable \"shopping_pt\". Despeues definimos el valor minimo de esa misma variable. y Creamos una tabla en la cual tenemos la mediana del shopping_pt. "
   ]
  },
  {
   "cell_type": "code",
   "execution_count": null,
   "metadata": {
    "collapsed": true
   },
   "outputs": [],
   "source": [
    "tabla6.index\n",
    "\n",
    "tabla6==tabla6.min()\n",
    "\n",
    "tabla6.index[tabla6==tabla6.min()]\n",
    "\n",
    "tabla6.min()\n",
    "\n",
    "tabla6.mean()"
   ]
  },
  {
   "cell_type": "markdown",
   "metadata": {},
   "source": [
    "Con la tabla 6 definida, sacamos el minimo de las cotozaciones. Y el resultado nos da que el estado con menos cotizaciones es SD con 6.19 contizaciones."
   ]
  },
  {
   "cell_type": "code",
   "execution_count": null,
   "metadata": {
    "collapsed": true
   },
   "outputs": [],
   "source": []
  }
 ],
 "metadata": {
  "kernelspec": {
   "display_name": "Python 2",
   "language": "python",
   "name": "python2"
  },
  "language_info": {
   "codemirror_mode": {
    "name": "ipython",
    "version": 2
   },
   "file_extension": ".py",
   "mimetype": "text/x-python",
   "name": "python",
   "nbconvert_exporter": "python",
   "pygments_lexer": "ipython2",
   "version": "2.7.11"
  }
 },
 "nbformat": 4,
 "nbformat_minor": 0
}
